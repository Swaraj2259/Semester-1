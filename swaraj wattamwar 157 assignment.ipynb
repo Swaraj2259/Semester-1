{
 "cells": [
  {
   "cell_type": "code",
   "execution_count": 2,
   "metadata": {},
   "outputs": [
    {
     "name": "stdout",
     "output_type": "stream",
     "text": [
      "given num is even number\n"
     ]
    }
   ],
   "source": [
    "# 1. WAP to check whether a number is even or odd.\n",
    "num=int(input(\"entre a number\"))\n",
    "if num%2==0 :\n",
    "    print(\"given num is even number\")\n",
    "else:\n",
    "    print(\"it's a odd number\")\n"
   ]
  },
  {
   "cell_type": "code",
   "execution_count": 7,
   "metadata": {},
   "outputs": [
    {
     "name": "stdout",
     "output_type": "stream",
     "text": [
      "not eligible for voting because u are age below 18: 1\n"
     ]
    }
   ],
   "source": [
    "# 2. WAP to check whether person is eligible for voting.\n",
    "age=int(input(\"entre u are age\"))\n",
    "if age>=18:\n",
    "    print(\"eligible for voting\")\n",
    "else:\n",
    "    print(\"not eligible for voting because u are age below 18:\",age)"
   ]
  },
  {
   "cell_type": "code",
   "execution_count": 8,
   "metadata": {},
   "outputs": [
    {
     "name": "stdout",
     "output_type": "stream",
     "text": [
      "thursday\n"
     ]
    }
   ],
   "source": [
    "'''3. WAP to enter a number between 1 to 7 as days of a week and print the day\n",
    "accordingly. (Monday, Tuesday ...) using if elif case.'''\n",
    "a=int(input(\"Enter a no\"))\n",
    "if a==1:\n",
    "    print(\"monday\")\n",
    "elif a==2:\n",
    "    print(\"Tuesday\")\n",
    "elif a==3:\n",
    "    print(\"wednesday\")\n",
    "elif a==4:\n",
    "    print(\"thursday\")\n",
    "elif a==5:\n",
    "    print(\"Friday\")\n",
    "elif a==6:\n",
    "    print(\"Saturday\")\n",
    "elif a==7:\n",
    "    print(\"Sunday\")\n",
    "else:\n",
    "    print(\"Invalid\")"
   ]
  },
  {
   "cell_type": "code",
   "execution_count": 6,
   "metadata": {},
   "outputs": [
    {
     "name": "stdout",
     "output_type": "stream",
     "text": [
      "Friday\n"
     ]
    }
   ],
   "source": [
    "'''4. WAP to enter a number between 1 to 7 as days of a week and print the day\n",
    "accordingly. (Monday, Tuesday ...) using match case.'''\n",
    "# def print(a)\n",
    "a=int(input(\"Enter a no\"))\n",
    "match a:\n",
    "    case 1:\n",
    "        print(\"monday\")\n",
    "    case 2:\n",
    "        print(\"Tuesday\")\n",
    "    case 3:\n",
    "        print(\"wednesday\")\n",
    "    case 4:\n",
    "        print(\"thursday\")\n",
    "    case 5:\n",
    "        print(\"Friday\")\n",
    "    case 6:\n",
    "        print(\"Saturday\")\n",
    "    case 7:\n",
    "        print(\"Sunday\")\n",
    "    # case _:\n",
    "    #     print(\"Invalid\")"
   ]
  },
  {
   "cell_type": "code",
   "execution_count": 13,
   "metadata": {},
   "outputs": [
    {
     "name": "stdout",
     "output_type": "stream",
     "text": [
      "leap year\n"
     ]
    }
   ],
   "source": [
    "'''5. WAP to check whether a year is a leap year or not. A year is a leap year if “any\n",
    "one of ” the following conditions are satisfied:\n",
    "• The year is multiple of 400.\n",
    "• The year is a multiple of 4 and not a multiple of 100'''\n",
    "a=int(input(\"enter a year\"))\n",
    "if a%400==0:\n",
    "    print(\"it is leap year\")\n",
    "elif a%4==0 and a%100!=0:\n",
    "    print(\"leap year\")\n",
    "else :\n",
    "    print(\"not a leap year\")\n"
   ]
  },
  {
   "cell_type": "code",
   "execution_count": null,
   "metadata": {},
   "outputs": [],
   "source": [
    "'''WAP to calculate to take in the marks of 5 subjects, compute average and display\n",
    "the grade as per following rules:\n",
    "• average >= 90 : “A\"\n",
    "• average >= 80 : “B\"\n",
    "• average >= 70 : “C\"\n",
    "• average >= 60 : “D”'''\n",
    "a,b,c,d,e=map(int,input(\"entre your mark\").split(\",\"))\n",
    "avg=(a+b+c+d+e)/5\n",
    "if avg>=90:\n",
    "    print(\"A\")\n",
    "elif avg>=80:\n",
    "    print(\"B\")\n",
    "elif avg>=70:\n",
    "    print(\"c\")\n",
    "elif avg>=60:\n",
    "    print(\"d\")\n",
    "else:\n",
    "    print(\"sry your are fail \")"
   ]
  },
  {
   "cell_type": "code",
   "execution_count": null,
   "metadata": {},
   "outputs": [],
   "source": [
    "'''7. WAP to input a character. Check whether the character is vowel or consonant.'''\n",
    "ch=input(\"enter a character\")\n",
    "if ch in 'aeiou':\n",
    "     print (f\"{ch} is vowel\")\n",
    "else:\n",
    "     print (f\"{ch} is not vowel\")"
   ]
  },
  {
   "cell_type": "code",
   "execution_count": null,
   "metadata": {},
   "outputs": [],
   "source": [
    "'''8. WAP to search an element in a list [use for: else clause]'''\n",
    "\n",
    "elements = [10, 20, 30, 40, 50]\n",
    "\n",
    "search_element = int(input(\"Enter the element to search: \"))\n",
    "\n",
    "for element in elements:\n",
    "    if element == search_element:\n",
    "        print(f\"Element {search_element} found in the list.\")\n",
    "        break\n",
    "else:\n",
    "    print(f\"Element {search_element} not found in the list.\")"
   ]
  },
  {
   "cell_type": "code",
   "execution_count": null,
   "metadata": {},
   "outputs": [],
   "source": [
    "'''9. Write a program to take a single digit number from the key board and print its\n",
    "spelling in English word using if elif.'''\n",
    "a=int(input(\"Enter a no\"))\n",
    "if a==1:\n",
    "    print(\"One\")\n",
    "elif a==2:\n",
    "    print(\"Two\")\n",
    "elif a==3:\n",
    "    print(\"Three\")\n",
    "elif a==4:\n",
    "    print(\"Four\")\n",
    "elif a==5:\n",
    "    print(\"Five\")\n",
    "elif a==6:\n",
    "    print(\"Six\")\n",
    "elif a==7:\n",
    "    print(\"Seven \")\n",
    "elif a==8:\n",
    "    print(\"Eight\")\n",
    "elif a==9:\n",
    "    print(\"Nine\")\n",
    "else:\n",
    "    print(\"Invalid\")"
   ]
  },
  {
   "cell_type": "code",
   "execution_count": null,
   "metadata": {},
   "outputs": [],
   "source": [
    "'''10. WAP to input three numbers and arrange them in ascending numbers.'''\n",
    "num1 = float(input(\"Enter the first number: \"))\n",
    "num2 = float(input(\"Enter the second number: \"))\n",
    "num3 = float(input(\"Enter the third number: \"))\n",
    "\n",
    "\n",
    "numbers = [num1, num2, num3]\n",
    "numbers.sort()\n",
    "print(\"Numbers in ascending order:\", numbers)"
   ]
  },
  {
   "cell_type": "code",
   "execution_count": null,
   "metadata": {},
   "outputs": [],
   "source": [
    "'''11. Write a program to take a single digit number from the key board and print its\n",
    "spelling in English word using match case'''\n",
    "num = int(input(\"enter the num\"))\n",
    "match num:\n",
    "    case 1:\n",
    "        print(\"one\")\n",
    "    case 2:\n",
    "        print(\"two\")\n",
    "    case 4:\n",
    "        print(\"three\")"
   ]
  },
  {
   "cell_type": "code",
   "execution_count": 1,
   "metadata": {},
   "outputs": [
    {
     "name": "stdout",
     "output_type": "stream",
     "text": [
      "john\n",
      "300\n"
     ]
    }
   ],
   "source": [
    "people={1:{'name':'john','age':'23'},\n",
    "        2:{'name':'maria','age':'300'}}\n",
    "print(people[1]['name'])\n",
    "print(people[2]['age'])"
   ]
  },
  {
   "cell_type": "code",
   "execution_count": 7,
   "metadata": {},
   "outputs": [
    {
     "name": "stdout",
     "output_type": "stream",
     "text": [
      "{1: {'name': 'john', 'age': '23'}, 2: {'name': 'maria', 'age': '300'}}\n",
      "{1: {'name': 'john', 'age': '23'}, 2: {'name': 'maria', 'age': '300'}, 3: {'name': 'prasad', 'age': 24}}\n"
     ]
    }
   ],
   "source": [
    "people={1:{'name':'john','age':'23'},\n",
    "        2:{'name':'maria','age':'300'}}\n",
    "print(people)\n",
    "people[3]={}\n",
    "people[3]['name']= 'prasad'\n",
    "people[3]['age']= 24\n",
    "print(people)"
   ]
  },
  {
   "cell_type": "code",
   "execution_count": 9,
   "metadata": {},
   "outputs": [
    {
     "name": "stdout",
     "output_type": "stream",
     "text": [
      "{1: {'name': 'john', 'age': '23'}, 2: {'name': 'maria', 'age': '300'}}\n"
     ]
    }
   ],
   "source": [
    "people={1:{'name':'john','age':'23'},\n",
    "        2:{'name':'maria','age':'300'},\n",
    "        3: {'name': 'prasad', 'age': 24}}\n",
    "del people[3]\n",
    "print(people)"
   ]
  },
  {
   "cell_type": "code",
   "execution_count": 10,
   "metadata": {},
   "outputs": [
    {
     "name": "stdout",
     "output_type": "stream",
     "text": [
      "\n",
      "person ID 1\n",
      "name: john\n",
      "age: 23\n",
      "\n",
      "person ID 2\n",
      "name: maria\n",
      "age: 300\n"
     ]
    }
   ],
   "source": [
    "people={1:{'name':'john','age':'23'},\n",
    "        2:{'name':'maria','age':'300'}}\n",
    "for p_id, p_info in people.items():\n",
    "    print('\\nperson ID', p_id)\n",
    "    for key in p_info:\n",
    "        print(key +':',p_info[key])"
   ]
  },
  {
   "cell_type": "code",
   "execution_count": null,
   "metadata": {},
   "outputs": [],
   "source": [
    "\n",
    "sq_dict={num:num*num}"
   ]
  },
  {
   "cell_type": "code",
   "execution_count": null,
   "metadata": {},
   "outputs": [],
   "source": [
    "old_"
   ]
  }
 ],
 "metadata": {
  "kernelspec": {
   "display_name": "Python 3",
   "language": "python",
   "name": "python3"
  },
  "language_info": {
   "codemirror_mode": {
    "name": "ipython",
    "version": 3
   },
   "file_extension": ".py",
   "mimetype": "text/x-python",
   "name": "python",
   "nbconvert_exporter": "python",
   "pygments_lexer": "ipython3",
   "version": "3.10.6"
  }
 },
 "nbformat": 4,
 "nbformat_minor": 2
}
