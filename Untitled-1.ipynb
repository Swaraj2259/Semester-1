{
 "cells": [
  {
   "cell_type": "code",
   "execution_count": 41,
   "metadata": {},
   "outputs": [
    {
     "data": {
      "text/plain": [
       "False"
      ]
     },
     "execution_count": 41,
     "metadata": {},
     "output_type": "execute_result"
    }
   ],
   "source": [
    "a=0.0\n",
    "bool(a)\n",
    "# print(a)"
   ]
  },
  {
   "cell_type": "code",
   "execution_count": 42,
   "metadata": {},
   "outputs": [
    {
     "name": "stdout",
     "output_type": "stream",
     "text": [
      "ab\n"
     ]
    }
   ],
   "source": [
    "a=(\"swaraj\")\n",
    "b=(\"wattamwar\")\n",
    "print(\"a\"+\"b\")"
   ]
  },
  {
   "cell_type": "code",
   "execution_count": 43,
   "metadata": {},
   "outputs": [
    {
     "name": "stdout",
     "output_type": "stream",
     "text": [
      "e\n",
      "h\n",
      "hel\n",
      "hello\n",
      "hellohellohello\n",
      "o\n",
      "5\n"
     ]
    }
   ],
   "source": [
    "s=\"hello\"\n",
    "print(s[1])\n",
    "print(s[0])\n",
    "print(s[:3])\n",
    "print(s[:])\n",
    "print(s*3)\n",
    "print(s[-1])\n",
    "print(len(s))"
   ]
  },
  {
   "cell_type": "code",
   "execution_count": 44,
   "metadata": {},
   "outputs": [
    {
     "name": "stdout",
     "output_type": "stream",
     "text": [
      "worldhello\n",
      "hello2\n"
     ]
    }
   ],
   "source": [
    "str1=\"hello\"\n",
    "str2=\"world\"\n",
    "str3=str2+str1\n",
    "print(str3)\n",
    "a=\"2\"\n",
    "str4=str1+str(a)\n",
    "print(str4)"
   ]
  },
  {
   "cell_type": "code",
   "execution_count": 45,
   "metadata": {},
   "outputs": [
    {
     "name": "stdout",
     "output_type": "stream",
     "text": [
      "happy2birtday\n"
     ]
    }
   ],
   "source": [
    "age=23\n",
    "a=\"happy\"+str(a)+\"birtday\"\n",
    "print(a)"
   ]
  },
  {
   "cell_type": "code",
   "execution_count": 46,
   "metadata": {},
   "outputs": [
    {
     "name": "stdout",
     "output_type": "stream",
     "text": [
      "<class 'str'>\n"
     ]
    }
   ],
   "source": [
    "a=str(10)\n",
    "print(type(a))"
   ]
  },
  {
   "cell_type": "code",
   "execution_count": 47,
   "metadata": {},
   "outputs": [
    {
     "name": "stdout",
     "output_type": "stream",
     "text": [
      "[24, 47, 38]\n",
      "<class 'list'>\n",
      "\n"
     ]
    }
   ],
   "source": [
    "ls=[10,24,47,38,84]\n",
    "print(ls[1:4])\n",
    "print(type(ls))\n",
    "print()\n"
   ]
  },
  {
   "cell_type": "code",
   "execution_count": 48,
   "metadata": {},
   "outputs": [
    {
     "name": "stdout",
     "output_type": "stream",
     "text": [
      "(74, 4845, 6, 978, 95, 3, 9)\n"
     ]
    },
    {
     "ename": "TypeError",
     "evalue": "'tuple' object does not support item assignment",
     "output_type": "error",
     "traceback": [
      "\u001b[0;31m---------------------------------------------------------------------------\u001b[0m",
      "\u001b[0;31mTypeError\u001b[0m                                 Traceback (most recent call last)",
      "Cell \u001b[0;32mIn[48], line 3\u001b[0m\n\u001b[1;32m      1\u001b[0m a\u001b[38;5;241m=\u001b[39m(\u001b[38;5;241m74\u001b[39m,\u001b[38;5;241m4845\u001b[39m,\u001b[38;5;241m6\u001b[39m,\u001b[38;5;241m978\u001b[39m,\u001b[38;5;241m95\u001b[39m,\u001b[38;5;241m3\u001b[39m,\u001b[38;5;241m9\u001b[39m)\n\u001b[1;32m      2\u001b[0m \u001b[38;5;28mprint\u001b[39m(a)\n\u001b[0;32m----> 3\u001b[0m \u001b[43ma\u001b[49m\u001b[43m[\u001b[49m\u001b[38;5;241;43m1\u001b[39;49m\u001b[43m]\u001b[49m\u001b[38;5;241m=\u001b[39m\u001b[38;5;241m11\u001b[39m\n",
      "\u001b[0;31mTypeError\u001b[0m: 'tuple' object does not support item assignment"
     ]
    }
   ],
   "source": [
    "a=(74,4845,6,978,95,3,9)\n",
    "print(a)\n",
    "a[1]=11"
   ]
  },
  {
   "cell_type": "code",
   "execution_count": 31,
   "metadata": {},
   "outputs": [
    {
     "name": "stdout",
     "output_type": "stream",
     "text": [
      "frozenset({1, 2, 3})\n",
      "frozenset({1, 2, 3, 4, 5})\n"
     ]
    }
   ],
   "source": [
    "s = {1, 2, 3}  # Regular set (mutable)\n",
    "fs = frozenset(s)  # Create a frozenset (immutable)\n",
    "\n",
    "# fs.add(4)  # This would raise an AttributeError because frozensets cannot be modified\n",
    "\n",
    "print(fs)  # Output: frozenset({1, 2, 3})\n",
    "\n",
    "# You can perform operations like union or intersection without modifying the frozenset\n",
    "print(fs.union({4, 5}))  # Output: frozenset({1, 2, 3, 4, 5})"
   ]
  },
  {
   "cell_type": "code",
   "execution_count": null,
   "metadata": {},
   "outputs": [],
   "source": [
    "# Creating a bytes object\n",
    "b = bytes([65, 66, 67])  # List of ASCII values for 'A', 'B', 'C'\n",
    "\n",
    "print(b)  # Output: b'ABC' (ASCII representation)\n",
    "\n",
    "# Accessing bytes\n",
    "print(b[0])  # Output: 65 (ASCII value of 'A')\n",
    "\n",
    "# You cannot modify the bytes object\n",
    "# b[0] = 70  # This will raise a TypeError since 'bytes' is immutable"
   ]
  },
  {
   "cell_type": "code",
   "execution_count": 49,
   "metadata": {},
   "outputs": [
    {
     "name": "stdout",
     "output_type": "stream",
     "text": [
      "<class 'str'>\n"
     ]
    }
   ],
   "source": [
    "a=('''string''')\n",
    "print(type(a))"
   ]
  },
  {
   "cell_type": "code",
   "execution_count": 50,
   "metadata": {},
   "outputs": [
    {
     "name": "stdout",
     "output_type": "stream",
     "text": [
      "1\n",
      "apple\n"
     ]
    },
    {
     "ename": "NameError",
     "evalue": "name 'count' is not defined",
     "output_type": "error",
     "traceback": [
      "\u001b[0;31m---------------------------------------------------------------------------\u001b[0m",
      "\u001b[0;31mNameError\u001b[0m                                 Traceback (most recent call last)",
      "Cell \u001b[0;32mIn[50], line 4\u001b[0m\n\u001b[1;32m      2\u001b[0m \u001b[38;5;28mprint\u001b[39m(my_tuple[\u001b[38;5;241m0\u001b[39m])   \u001b[38;5;66;03m# Output: 1 (accessing first element)\u001b[39;00m\n\u001b[1;32m      3\u001b[0m \u001b[38;5;28mprint\u001b[39m(my_tuple[\u001b[38;5;241m3\u001b[39m])   \u001b[38;5;66;03m# Output: 'apple'\u001b[39;00m\n\u001b[0;32m----> 4\u001b[0m \u001b[43mcount\u001b[49m(\u001b[38;5;241m6\u001b[39m)\n\u001b[1;32m      5\u001b[0m \u001b[38;5;66;03m# my_tuple[0] = 100  # This would raise a TypeError since tuples are immutable\u001b[39;00m\n",
      "\u001b[0;31mNameError\u001b[0m: name 'count' is not defined"
     ]
    }
   ],
   "source": [
    "my_tuple = (1, 2, 3, \"apple\", [4, 5])\n",
    "print(my_tuple[0])   # Output: 1 (accessing first element)\n",
    "print(my_tuple[3])   # Output: 'apple'\n",
    "count(6)\n",
    "# my_tuple[0] = 100  # This would raise a TypeError since tuples are immutable"
   ]
  },
  {
   "cell_type": "code",
   "execution_count": 55,
   "metadata": {},
   "outputs": [
    {
     "name": "stdout",
     "output_type": "stream",
     "text": [
      "259\n",
      "<class 'int'>\n",
      "<class 'str'>\n"
     ]
    }
   ],
   "source": [
    "print(3+2**2**3)\n",
    "print(type(1+5))\n",
    "# print(type(1+\"5\"))\n",
    "print(type(\"1\"+\"5\"))"
   ]
  },
  {
   "cell_type": "code",
   "execution_count": 62,
   "metadata": {},
   "outputs": [
    {
     "name": "stdout",
     "output_type": "stream",
     "text": [
      "a>b is False\n",
      "a>=bis False\n",
      "False\n",
      "True\n",
      "False\n",
      "False\n"
     ]
    }
   ],
   "source": [
    "\n",
    "a=(\"Hello\")\n",
    "b=(\"hello\")\n",
    "print(\"a>b is\",a>b)\n",
    "print(\"a>=bis\",a>=b)\n",
    "print(a==b)\n",
    "print(a!=b)\n",
    "print(10==\"hello\")\n",
    "x=15\n",
    "print(10>x>20)  #interpreted as 10<15 and 15<20\n"
   ]
  },
  {
   "cell_type": "code",
   "execution_count": 69,
   "metadata": {},
   "outputs": [
    {
     "name": "stdout",
     "output_type": "stream",
     "text": [
      "20\n",
      "0\n",
      "10\n",
      "\n",
      "hello\n"
     ]
    }
   ],
   "source": [
    "print(10 and 20)\n",
    "print(0 and 20)\n",
    "print(10 or 20)\n",
    "print(\"\" and \"hello\")\n",
    "print((\"\" or \"hello\"))"
   ]
  },
  {
   "cell_type": "code",
   "execution_count": 70,
   "metadata": {},
   "outputs": [
    {
     "name": "stdout",
     "output_type": "stream",
     "text": [
      "greater number among 1 and 2 is  2\n"
     ]
    }
   ],
   "source": [
    "#WAP to find greater among two number \n",
    "n1,n2=1,2\n",
    "g=n1 if n1>n2 else n2\n",
    "print(\"greater number among\",n1,\"and\",n2,\"is \",g)\n"
   ]
  },
  {
   "cell_type": "code",
   "execution_count": 72,
   "metadata": {},
   "outputs": [
    {
     "name": "stdout",
     "output_type": "stream",
     "text": [
      "greater number among 45 and 78 is  78\n"
     ]
    }
   ],
   "source": [
    "#WAP to find greater among two number \n",
    "n1=(input())\n",
    "n2=(input())\n",
    "g=n1 if n1>n2 else n2\n",
    "print(\"greater number among\",n1,\"and\",n2,\"is \",g)"
   ]
  },
  {
   "cell_type": "code",
   "execution_count": 74,
   "metadata": {},
   "outputs": [
    {
     "name": "stdout",
     "output_type": "stream",
     "text": [
      "0b100100\n",
      "0b10\n"
     ]
    }
   ],
   "source": [
    "x=37\n",
    "y=38\n",
    "print(bin(x&y))\n",
    "print(bin(~x&y))"
   ]
  },
  {
   "cell_type": "code",
   "execution_count": 76,
   "metadata": {},
   "outputs": [
    {
     "name": "stdout",
     "output_type": "stream",
     "text": [
      "4394878192\n",
      "4394878192\n"
     ]
    }
   ],
   "source": [
    "m=83 #objectnidentity\n",
    "m=a\n",
    "print(id(a))\n",
    "print(id(m))"
   ]
  },
  {
   "cell_type": "code",
   "execution_count": 79,
   "metadata": {},
   "outputs": [
    {
     "name": "stdout",
     "output_type": "stream",
     "text": [
      "True\n",
      "4339745296 4339745296\n"
     ]
    }
   ],
   "source": [
    "#identity operators\n",
    "a=10 \n",
    "b=10\n",
    "print(a is b)\n",
    "print(id(a),id(b))"
   ]
  },
  {
   "cell_type": "code",
   "execution_count": 127,
   "metadata": {},
   "outputs": [
    {
     "name": "stdout",
     "output_type": "stream",
     "text": [
      "True\n",
      "True\n"
     ]
    }
   ],
   "source": [
    "a=(\"i love eating python\")\n",
    "print('i' in a)\n",
    "print(\"love\"in a)\n"
   ]
  },
  {
   "cell_type": "code",
   "execution_count": 98,
   "metadata": {},
   "outputs": [
    {
     "name": "stdout",
     "output_type": "stream",
     "text": [
      "hi swaraj\n",
      "hi              swaraj\n",
      "hiswaraj\n"
     ]
    }
   ],
   "source": [
    "name=\"swaraj\"\n",
    "print(\"hi%7s\"%name)\n",
    "print(\"hi%20s\"%name)\n",
    "print(\"hi%3s\"%name)\n"
   ]
  },
  {
   "cell_type": "code",
   "execution_count": 116,
   "metadata": {},
   "outputs": [
    {
     "name": "stdout",
     "output_type": "stream",
     "text": [
      "num=20,num=10,num=20\n"
     ]
    }
   ],
   "source": [
    "n1,n2,n3=10,20,30\n",
    "print('num={1},num={0},num={1}'.format(n1,n2,n3)) \n",
    "# here \".\"is imp"
   ]
  },
  {
   "cell_type": "code",
   "execution_count": 117,
   "metadata": {},
   "outputs": [
    {
     "name": "stdout",
     "output_type": "stream",
     "text": [
      "num=10,num=20,num=30\n"
     ]
    }
   ],
   "source": [
    "n1,n2,n3=10,20,30\n",
    "print('num={},num={},num={}'.format(n1,n2,n3))"
   ]
  },
  {
   "cell_type": "code",
   "execution_count": 119,
   "metadata": {},
   "outputs": [
    {
     "name": "stdout",
     "output_type": "stream",
     "text": [
      "the story of bill,manfred,and vivek.\n"
     ]
    }
   ],
   "source": [
    "print(\"the story of {0},{1},and {other}.\".format(\"bill\",\"manfred\",other=\"vivek\"))"
   ]
  },
  {
   "cell_type": "code",
   "execution_count": 123,
   "metadata": {},
   "outputs": [
    {
     "name": "stdout",
     "output_type": "stream",
     "text": [
      "36 37\n"
     ]
    }
   ],
   "source": [
    "a,b=input(\"enter the value\").split()\n",
    "print(a,b)"
   ]
  },
  {
   "cell_type": "code",
   "execution_count": 125,
   "metadata": {},
   "outputs": [
    {
     "name": "stdout",
     "output_type": "stream",
     "text": [
      "2376\n"
     ]
    }
   ],
   "source": [
    "a=input(\"enter the no\")\n",
    "print(a)"
   ]
  },
  {
   "cell_type": "code",
   "execution_count": 126,
   "metadata": {},
   "outputs": [
    {
     "data": {
      "text/plain": [
       "'hello world'"
      ]
     },
     "execution_count": 126,
     "metadata": {},
     "output_type": "execute_result"
    }
   ],
   "source": [
    "\"hello\"and\"hello world\""
   ]
  },
  {
   "cell_type": "code",
   "execution_count": null,
   "metadata": {},
   "outputs": [],
   "source": [
    "print"
   ]
  },
  {
   "cell_type": "code",
   "execution_count": 129,
   "metadata": {},
   "outputs": [
    {
     "name": "stdout",
     "output_type": "stream",
     "text": [
      "7is equal to 7\n"
     ]
    }
   ],
   "source": [
    "# example of if else statement\n",
    "\n",
    "a= 7 \n",
    "b=7\n",
    "if a>b:\n",
    "    print(f\"{a}is greater than{b}\")\n",
    "elif a<b:\n",
    "    print(f\"{b} is greater than{a}\")\n",
    "else:print (f\"{a}is equal to {b}\")\n"
   ]
  },
  {
   "cell_type": "code",
   "execution_count": 132,
   "metadata": {},
   "outputs": [
    {
     "name": "stdout",
     "output_type": "stream",
     "text": [
      "35is not divisible 27\n"
     ]
    }
   ],
   "source": [
    "# example of if else statement\n",
    "n1, n2 =map(int,input(\"enter two integers\").split())\n",
    "if (n1%n2==0):\n",
    "    print(f'{n1}is divisble by {n2}')\n",
    "else:\n",
    "    print(f'{n1}is not divisible {n2}')"
   ]
  },
  {
   "cell_type": "code",
   "execution_count": 134,
   "metadata": {},
   "outputs": [
    {
     "name": "stdout",
     "output_type": "stream",
     "text": [
      "365.09999999999997\n"
     ]
    }
   ],
   "source": [
    "# example of if elif else statement\n",
    "amt=int(input(\"enter the amt\"))\n",
    "if amt>3000:\n",
    "    discount=amt*0.20\n",
    "elif amt>=2000:\n",
    "    discount=amt*0.15\n",
    "elif amt>=1000:\n",
    "    discount=amt*0.05\n",
    "print(discount)\n"
   ]
  },
  {
   "cell_type": "code",
   "execution_count": 139,
   "metadata": {},
   "outputs": [
    {
     "name": "stdout",
     "output_type": "stream",
     "text": [
      "number in acsending order 73,49,73\n"
     ]
    }
   ],
   "source": [
    "x,y,z=map(int,input(\"enter the three integers\").split())\n",
    "min=mid=max=None\n",
    "if x<y and x<z:\n",
    "    if y<z:\n",
    "        min,mid,max=x,y,z\n",
    "    else:\n",
    "        min,mid,max= x,z,y\n",
    "elif y<x and y<z:\n",
    "    if x<z:\n",
    "        min,mid,max= x,y,z\n",
    "    else :\n",
    "        min,mid,max= y,z,x\n",
    "else:\n",
    "    if x<y:\n",
    "        min, mid,max=z,x,y\n",
    "    else: \n",
    "        min,mid,max=y,z,x\n",
    "print(f'number in acsending order {min},{mid},{max}')\n",
    " \n",
    " "
   ]
  },
  {
   "cell_type": "code",
   "execution_count": 140,
   "metadata": {},
   "outputs": [
    {
     "name": "stdout",
     "output_type": "stream",
     "text": [
      "b is greater than a\n"
     ]
    }
   ],
   "source": [
    "a,b=10,20\n",
    "if a==b:\n",
    "    print(\"a is equal to b\")\n",
    "else:\n",
    "    if a>b:\n",
    "        print(\"a is greater than b\")\n",
    "    else:\n",
    "        print (\"b is greater than a\")\n",
    "    "
   ]
  },
  {
   "cell_type": "code",
   "execution_count": 143,
   "metadata": {},
   "outputs": [
    {
     "name": "stdout",
     "output_type": "stream",
     "text": [
      "num is not bet the num 1 to 3\n"
     ]
    }
   ],
   "source": [
    "num = int(input(\"enter the num\"))\n",
    "match num:\n",
    "    case 1:\n",
    "        print(\"one\")\n",
    "    case 2:\n",
    "        print(\"two\")\n",
    "    case 4:\n",
    "        print(\"three\")\n",
    "    case _ :\n",
    "        print (\"num is not bet the num 1 to 3\")\n"
   ]
  },
  {
   "cell_type": "code",
   "execution_count": 147,
   "metadata": {},
   "outputs": [
    {
     "name": "stdout",
     "output_type": "stream",
     "text": [
      "y is not vowel\n"
     ]
    }
   ],
   "source": [
    "ch=input(\"enter a character\")\n",
    "if ch in 'aeiou':\n",
    "     print (f\"{ch} is vowel\")\n",
    "else:\n",
    "     print (f\"{ch} is not vowel\")"
   ]
  },
  {
   "cell_type": "code",
   "execution_count": null,
   "metadata": {},
   "outputs": [],
   "source": [
    "ch1=input(\"Enter a character\")\n",
    "match ch1:\n",
    "    case 'a'|'e'|'i'|'o'|'u':\n",
    "        print(f\"{ch1} is a vowel\")\n",
    "    case _:\n",
    "        print(f\"{ch1} is not a vowel\")"
   ]
  },
  {
   "cell_type": "code",
   "execution_count": 150,
   "metadata": {},
   "outputs": [
    {
     "name": "stdout",
     "output_type": "stream",
     "text": [
      "leap year\n"
     ]
    }
   ],
   "source": [
    "a=int(input(\"enter a year\"))\n",
    "if a%400==0:\n",
    "    print(\"it is leap year\")\n",
    "elif a%4==0 and a%100!=0:\n",
    "    print(\"leap year\")\n",
    "else :\n",
    "    print(\"not a leap year\")"
   ]
  },
  {
   "cell_type": "code",
   "execution_count": 159,
   "metadata": {},
   "outputs": [
    {
     "name": "stdout",
     "output_type": "stream",
     "text": [
      "sry your are fail \n"
     ]
    }
   ],
   "source": [
    "a,b,c,d,e=map(int,input(\"entre your mark\").split(\",\"))\n",
    "avg=(a+b+c+d+e)/5\n",
    "if avg>=90:\n",
    "    print(\"A\")\n",
    "elif avg>=80:\n",
    "    print(\"B\")\n",
    "elif avg>=70:\n",
    "    print(\"c\")\n",
    "elif avg>=60:\n",
    "    print(\"d\")\n",
    "else:\n",
    "    print(\"sry your are fail \")"
   ]
  },
  {
   "cell_type": "code",
   "execution_count": 160,
   "metadata": {},
   "outputs": [
    {
     "name": "stdout",
     "output_type": "stream",
     "text": [
      "Eight\n"
     ]
    }
   ],
   "source": [
    "a=int(input(\"Enter a no\"))\n",
    "if a==1:\n",
    "    print(\"One\")\n",
    "elif a==2:\n",
    "    print(\"Two\")\n",
    "elif a==3:\n",
    "    print(\"Three\")\n",
    "elif a==4:\n",
    "    print(\"Four\")\n",
    "elif a==5:\n",
    "    print(\"Five\")\n",
    "elif a==6:\n",
    "    print(\"Six\")\n",
    "elif a==7:\n",
    "    print(\"Seven \")\n",
    "elif a==8:\n",
    "    print(\"Eight\")\n",
    "elif a==9:\n",
    "    print(\"Nine\")\n",
    "else:\n",
    "    print(\"Invalid\")"
   ]
  },
  {
   "cell_type": "code",
   "execution_count": 186,
   "metadata": {},
   "outputs": [
    {
     "name": "stdout",
     "output_type": "stream",
     "text": [
      "15 14 13 12 11 10 9 8 7 6 5 4 3 2 1 "
     ]
    }
   ],
   "source": [
    "for x in range(15,0,-1):\n",
    "    print(x,end=\" \")"
   ]
  },
  {
   "cell_type": "code",
   "execution_count": 178,
   "metadata": {},
   "outputs": [
    {
     "name": "stdout",
     "output_type": "stream",
     "text": [
      "10           11           12           13           14           15           16           17           18           19           "
     ]
    }
   ],
   "source": [
    "r=range(10,20)\n",
    "for i in r : print(i,end=\"           \")"
   ]
  },
  {
   "cell_type": "code",
   "execution_count": 185,
   "metadata": {},
   "outputs": [
    {
     "name": "stdout",
     "output_type": "stream",
     "text": [
      "10\n"
     ]
    }
   ],
   "source": [
    "n=int(input(\"entre a num \"))\n",
    "sum=0\n",
    "for x in range (1,n+1):\n",
    "    sum+=x\n",
    "\n",
    "print(sum)"
   ]
  },
  {
   "cell_type": "code",
   "execution_count": 184,
   "metadata": {},
   "outputs": [
    {
     "name": "stdout",
     "output_type": "stream",
     "text": [
      "24\n"
     ]
    }
   ],
   "source": [
    "n=int(input(\"entre a num \"))\n",
    "multi=1\n",
    "for x in range (1,n+1):\n",
    "    multi*=x\n",
    "\n",
    "print(multi)"
   ]
  },
  {
   "cell_type": "code",
   "execution_count": 187,
   "metadata": {},
   "outputs": [
    {
     "name": "stdout",
     "output_type": "stream",
     "text": [
      "10 12 14 16 18 20 22 24 26 28 "
     ]
    }
   ],
   "source": [
    "for x in range(10,30,2):\n",
    "    print(x,end=\" \")"
   ]
  },
  {
   "cell_type": "code",
   "execution_count": 189,
   "metadata": {},
   "outputs": [
    {
     "name": "stdout",
     "output_type": "stream",
     "text": [
      "440\n"
     ]
    }
   ],
   "source": [
    "sum=0\n",
    "for x in range(30,51,2):\n",
    "    sum+=x\n",
    "print(sum)\n",
    "    "
   ]
  },
  {
   "cell_type": "code",
   "execution_count": 194,
   "metadata": {},
   "outputs": [
    {
     "name": "stdout",
     "output_type": "stream",
     "text": [
      "h-e-l-l-o-"
     ]
    }
   ],
   "source": [
    "a=str(input())\n",
    "for x in a:\n",
    "    print(x,end=\"-\")"
   ]
  },
  {
   "cell_type": "code",
   "execution_count": 196,
   "metadata": {},
   "outputs": [
    {
     "name": "stdout",
     "output_type": "stream",
     "text": [
      "swaraj 6\n"
     ]
    }
   ],
   "source": [
    "name=str(input())\n",
    "print(name,len(name))\n"
   ]
  },
  {
   "cell_type": "code",
   "execution_count": 200,
   "metadata": {},
   "outputs": [
    {
     "name": "stdout",
     "output_type": "stream",
     "text": [
      "1\n",
      "2\n",
      "Fizz\n",
      "4\n",
      "Buzz\n",
      "Fizz\n",
      "7\n",
      "8\n",
      "Fizz\n",
      "Buzz\n",
      "11\n",
      "Fizz\n",
      "13\n",
      "14\n",
      "FizzBuzz\n",
      "16\n",
      "17\n",
      "Fizz\n",
      "19\n",
      "Buzz\n"
     ]
    }
   ],
   "source": [
    "n=int(input(\"ENter a number\"))\n",
    "for i in range(1,n+1):\n",
    "    if (i%3==0 and i%5==0):\n",
    "        print(\"FizzBuzz\")\n",
    "    elif (i%3==0 and i%5!=0):\n",
    "        print(\"Fizz\")\n",
    "    elif(i%5==0 and i%3!=0):\n",
    "        print(\"Buzz\")\n",
    "    elif(i%5!=0 or i%3!=0):\n",
    "        print(i,)\n",
    "    else:\n",
    "        print(\"Invalid\")"
   ]
  },
  {
   "cell_type": "code",
   "execution_count": 214,
   "metadata": {},
   "outputs": [
    {
     "name": "stdout",
     "output_type": "stream",
     "text": [
      "KEVIV\n"
     ]
    }
   ],
   "source": [
    "a=input([])\n",
    "print(a[::-1])"
   ]
  },
  {
   "cell_type": "code",
   "execution_count": 217,
   "metadata": {},
   "outputs": [
    {
     "name": "stdout",
     "output_type": "stream",
     "text": [
      "\n",
      " dict iteration\n",
      "xyz 1821\n",
      "abc 262\n"
     ]
    }
   ],
   "source": [
    "print(\"\\n dict iteration\")\n",
    "d = {\"xyz\":1821,\"abc\":262}\n",
    "for i in d :\n",
    "    print(\"%s %d\"%(i,d[i]))\n"
   ]
  },
  {
   "cell_type": "code",
   "execution_count": 228,
   "metadata": {},
   "outputs": [
    {
     "name": "stdout",
     "output_type": "stream",
     "text": [
      "2628\n"
     ]
    }
   ],
   "source": [
    "n=int(input(\"enter a number\"))\n",
    "sum=0\n",
    "i=1\n",
    "while i<=n:\n",
    "    sum+=i\n",
    "    i+=1\n",
    "\n",
    "print(sum)"
   ]
  },
  {
   "cell_type": "code",
   "execution_count": 236,
   "metadata": {},
   "outputs": [
    {
     "name": "stdout",
     "output_type": "stream",
     "text": [
      "55\n"
     ]
    }
   ],
   "source": [
    "n1,n2=map(int,input(\"entre a nos\").split())\n",
    "sum=0\n",
    "while n1<=n2:\n",
    "    sum+=n1\n",
    "    n1+=1\n",
    "print(sum)\n"
   ]
  },
  {
   "cell_type": "code",
   "execution_count": 2,
   "metadata": {},
   "outputs": [
    {
     "name": "stdout",
     "output_type": "stream",
     "text": [
      "     *\n",
      "    ***\n",
      "   *****\n",
      "  *******\n",
      " *********\n",
      "***********\n"
     ]
    }
   ],
   "source": [
    "#PYRAMID star pattern\n",
    "rows= int(input())\n",
    "for i in range(rows):\n",
    "    for j in range(rows-i-1):\n",
    "        print(\" \",end=\"\")\n",
    "    for j in range(2*i+1):\n",
    "        print(\"*\", end=\"\")\n",
    "    print()"
   ]
  },
  {
   "cell_type": "code",
   "execution_count": 6,
   "metadata": {},
   "outputs": [
    {
     "name": "stdout",
     "output_type": "stream",
     "text": [
      "0,1,2,3,4,5,"
     ]
    }
   ],
   "source": [
    "for x in range(10): #break statement\n",
    "    if x>5:\n",
    "        break\n",
    "    print(x,end=\",\")"
   ]
  },
  {
   "cell_type": "code",
   "execution_count": 11,
   "metadata": {},
   "outputs": [
    {
     "name": "stdout",
     "output_type": "stream",
     "text": [
      "0,1,2,3,4,5,6,7,8,9,"
     ]
    }
   ],
   "source": [
    "for x in range(10): #continue statement\n",
    "    if x==5:\n",
    "        continue\n",
    "    print(x,end=\",\")"
   ]
  },
  {
   "cell_type": "code",
   "execution_count": 10,
   "metadata": {},
   "outputs": [
    {
     "name": "stdout",
     "output_type": "stream",
     "text": [
      "115\n"
     ]
    }
   ],
   "source": [
    "sum=0\n",
    "for i in range(21):\n",
    "    if i in range(5,15):\n",
    "        continue\n",
    "    sum+=i\n",
    "print(sum)"
   ]
  },
  {
   "cell_type": "code",
   "execution_count": 13,
   "metadata": {},
   "outputs": [
    {
     "name": "stdout",
     "output_type": "stream",
     "text": [
      "number is negative\n"
     ]
    }
   ],
   "source": [
    "x=int(input(\"entre a nos\"))\n",
    "if x>=0:\n",
    "    pass\n",
    "else:\n",
    "    print(\"number is negative\")"
   ]
  },
  {
   "cell_type": "code",
   "execution_count": 29,
   "metadata": {},
   "outputs": [
    {
     "name": "stdout",
     "output_type": "stream",
     "text": [
      "0,1,2,3,4,5,"
     ]
    }
   ],
   "source": [
    "for x in range(10):\n",
    "    if x>5:\n",
    "        break\n",
    "    print(x,end=\",\")\n",
    "else:\n",
    "    print(\"finally finished\")"
   ]
  },
  {
   "cell_type": "code",
   "execution_count": 35,
   "metadata": {},
   "outputs": [
    {
     "name": "stdout",
     "output_type": "stream",
     "text": [
      "5,finally finished\n"
     ]
    }
   ],
   "source": [
    "for x in range(10):\n",
    "    if x>=5:\n",
    "        print(x,end=\",\")\n",
    "else:\n",
    "    print(\"finally finished\")"
   ]
  },
  {
   "cell_type": "code",
   "execution_count": 27,
   "metadata": {},
   "outputs": [
    {
     "name": "stdout",
     "output_type": "stream",
     "text": [
      "entre a number is  367\n",
      "element not found\n"
     ]
    }
   ],
   "source": [
    "ls=[10,20,30,40,50,60,70]\n",
    "a=int(input(\"entre a number\"))\n",
    "print(\"entre a number is \",a)\n",
    "for ele in ls:\n",
    "    if a==ele:\n",
    "        print('element found')\n",
    "        break\n",
    "else:\n",
    "    print(\"element not found\")"
   ]
  },
  {
   "cell_type": "code",
   "execution_count": 36,
   "metadata": {},
   "outputs": [
    {
     "name": "stdout",
     "output_type": "stream",
     "text": [
      "entre a number is  5638\n",
      "element not found\n"
     ]
    }
   ],
   "source": [
    "ls=[10,20,30,40,50,60,70]\n",
    "a=int(input(\"entre a number\"))\n",
    "print(\"entre a number is \",a)\n",
    "i=0\n",
    "while i<len(ls):\n",
    "    if a==ls[i]:\n",
    "        print('element found')\n",
    "        break\n",
    "    i+=1\n",
    "else:\n",
    "    print(\"element not found\")"
   ]
  },
  {
   "cell_type": "code",
   "execution_count": 37,
   "metadata": {},
   "outputs": [
    {
     "name": "stdout",
     "output_type": "stream",
     "text": [
      "number of occurrence 1\n"
     ]
    }
   ],
   "source": [
    "import array as arr\n",
    "a=arr.array(\"i\",[1,2,3,4,6])\n",
    "count=a.count(2)\n",
    "print(\"number of occurrence\", count)"
   ]
  },
  {
   "cell_type": "code",
   "execution_count": 39,
   "metadata": {},
   "outputs": [
    {
     "name": "stdout",
     "output_type": "stream",
     "text": [
      "['one', 'two', 'three']\n"
     ]
    }
   ],
   "source": [
    "a=\"one,two,three\"\n",
    "print(a.split(\",\"))"
   ]
  },
  {
   "cell_type": "code",
   "execution_count": 40,
   "metadata": {},
   "outputs": [
    {
     "name": "stdout",
     "output_type": "stream",
     "text": [
      "['ca', 'ba', 'va', 'ga', 'va', 'wa', '']\n"
     ]
    }
   ],
   "source": [
    "a=\"catbatvatgatvatwat\"\n",
    "print(a.split(\"t\"))"
   ]
  },
  {
   "cell_type": "code",
   "execution_count": 41,
   "metadata": {},
   "outputs": [
    {
     "name": "stdout",
     "output_type": "stream",
     "text": [
      "['10:20:30']\n"
     ]
    }
   ],
   "source": [
    "a=\"10:20:30\"\n",
    "print(a.split(','))"
   ]
  },
  {
   "cell_type": "code",
   "execution_count": 49,
   "metadata": {},
   "outputs": [
    {
     "name": "stdout",
     "output_type": "stream",
     "text": [
      "['ca', 'batvatgatvatwat']\n"
     ]
    }
   ],
   "source": [
    "a=\"catbatvatgatvatwat\"\n",
    "print(a.split(\"t\",1)) #maxsplit\n"
   ]
  },
  {
   "cell_type": "code",
   "execution_count": 50,
   "metadata": {},
   "outputs": [
    {
     "name": "stdout",
     "output_type": "stream",
     "text": [
      "['one', 'two', 'three,four']\n"
     ]
    }
   ],
   "source": [
    "a=\"one,two,three,four\"\n",
    "print(a.split(\",\",2))"
   ]
  },
  {
   "cell_type": "code",
   "execution_count": 57,
   "metadata": {},
   "outputs": [
    {
     "name": "stdout",
     "output_type": "stream",
     "text": [
      "['catbatvatga', 'va', 'wa', '']\n"
     ]
    }
   ],
   "source": [
    "a=\"catbatvatgatvatwat\"\n",
    "print(a.rsplit(\"t\",3))"
   ]
  },
  {
   "cell_type": "code",
   "execution_count": 58,
   "metadata": {},
   "outputs": [
    {
     "name": "stdout",
     "output_type": "stream",
     "text": [
      "('cat bat vat ', 'gat', ' vat wat')\n"
     ]
    }
   ],
   "source": [
    "a=\"cat bat vat gat vat wat\"\n",
    "print(a.partition(\"gat\"))"
   ]
  },
  {
   "cell_type": "code",
   "execution_count": 68,
   "metadata": {},
   "outputs": [
    {
     "name": "stdout",
     "output_type": "stream",
     "text": [
      "SUHFUFHruhg\n"
     ]
    }
   ],
   "source": [
    "a=['SUHF','UFH','ruhg']\n",
    "print(\"\".join(a))"
   ]
  },
  {
   "cell_type": "code",
   "execution_count": 70,
   "metadata": {},
   "outputs": [
    {
     "name": "stdout",
     "output_type": "stream",
     "text": [
      "petrol-*-furl\n"
     ]
    }
   ],
   "source": [
    "a={\"petrol\":1,\"furl\":2}\n",
    "print(\"-*-\".join(a))"
   ]
  },
  {
   "cell_type": "code",
   "execution_count": 82,
   "metadata": {},
   "outputs": [
    {
     "data": {
      "text/plain": [
       "(786, 'even number')"
      ]
     },
     "execution_count": 82,
     "metadata": {},
     "output_type": "execute_result"
    }
   ],
   "source": [
    "#funtion \n",
    "num=int(input())\n",
    "def even_odd(num):\n",
    "    if num%2==0:\n",
    "        return num,'even number'\n",
    "    else:\n",
    "        return num,'is odd number'\n",
    "even_odd(num)"
   ]
  },
  {
   "cell_type": "code",
   "execution_count": 78,
   "metadata": {},
   "outputs": [
    {
     "name": "stdout",
     "output_type": "stream",
     "text": [
      "756 is even number\n"
     ]
    }
   ],
   "source": [
    "num=int(input())\n",
    "def even_odd(num):\n",
    "    if num%2==0:\n",
    "        print(num,'is even number')\n",
    "    else:\n",
    "        print(num,'is odd number')\n",
    "even_odd(num)"
   ]
  },
  {
   "cell_type": "code",
   "execution_count": null,
   "metadata": {},
   "outputs": [],
   "source": [
    "def fact(num):\n",
    "    result=1 \n",
    "    while num>=1\n",
    "    result=result*num\n",
    "    num=num"
   ]
  },
  {
   "cell_type": "code",
   "execution_count": 84,
   "metadata": {},
   "outputs": [
    {
     "name": "stdout",
     "output_type": "stream",
     "text": [
      "hello gvurvh riugh ri\n"
     ]
    }
   ],
   "source": [
    "def greet(name,msg):\n",
    "    print(\"hello\",name,msg)\n",
    "greet(name=\"gvurvh\",msg=\"riugh ri\")"
   ]
  },
  {
   "cell_type": "code",
   "execution_count": 87,
   "metadata": {},
   "outputs": [
    {
     "name": "stdout",
     "output_type": "stream",
     "text": [
      "hello jhd ieygf\n"
     ]
    }
   ],
   "source": [
    "def greet(name=\"jhd\",msg=\"ieygf\"):\n",
    "    print(\"hello\",name,msg)\n",
    "greet()"
   ]
  },
  {
   "cell_type": "code",
   "execution_count": 88,
   "metadata": {},
   "outputs": [
    {
     "name": "stdout",
     "output_type": "stream",
     "text": [
      "116\n"
     ]
    }
   ],
   "source": [
    "def add(*nums):\n",
    "    sum=0\n",
    "    for i in nums:\n",
    "        sum+=i\n",
    "    print(sum)\n",
    "add(8,8,8,47,42,1,2)"
   ]
  },
  {
   "cell_type": "code",
   "execution_count": 4,
   "metadata": {},
   "outputs": [
    {
     "name": "stdout",
     "output_type": "stream",
     "text": [
      "\n",
      " data type of argument <class 'dict'>\n",
      "firstnman is suta\n",
      "lastname is addgatal\n",
      "age is 329568\n",
      "phone is 5764675488\n",
      "\n",
      " data type of argument <class 'dict'>\n",
      "firstname is sonuuu\n",
      "lastname is monuuuu\n",
      "lastdate is 11-15-2030\n"
     ]
    }
   ],
   "source": [
    "def func_kward(**data): \n",
    "    print(\"\\n data type of argument\",type(data))\n",
    "\n",
    "    for key, value in data.items():\n",
    "        print(\"{} is {}\".format(key,value))\n",
    "func_kward(firstnman=\"suta\",lastname=\"addgatal\",age=329568,phone=5764675488)\n",
    "func_kward(firstname=\"sonuuu\",lastname=\"monuuuu\",lastdate=\"11-15-2030\")"
   ]
  },
  {
   "cell_type": "code",
   "execution_count": 11,
   "metadata": {},
   "outputs": [
    {
     "name": "stdout",
     "output_type": "stream",
     "text": [
      "True\n"
     ]
    }
   ],
   "source": [
    "#wap to find prime no.\n",
    "def test_prime(n):\n",
    "    if n==1:\n",
    "        return False\n",
    "    elif n==2:\n",
    "        return True\n",
    "    else :\n",
    "        for x in range(2,n//2):\n",
    "            if n%x==0:\n",
    "                return False\n",
    "    return True\n",
    "print(test_prime(7))\n",
    "            \n",
    "        "
   ]
  },
  {
   "cell_type": "code",
   "execution_count": 13,
   "metadata": {},
   "outputs": [
    {
     "name": "stdout",
     "output_type": "stream",
     "text": [
      "final result: hello! SONUUUU\n"
     ]
    }
   ],
   "source": [
    "#calling function within a function\n",
    "def cap(text):\n",
    "    return text.upper()\n",
    "def greet(name):\n",
    "    return f\"hello! {name}\"\n",
    "\n",
    "def greet_and_cap(name):\n",
    "    n=cap(name)\n",
    "    return greet(n)\n",
    "\n",
    "\n",
    "result=greet_and_cap(\"sonuuuu\")\n",
    "print(\"final result:\",result)"
   ]
  },
  {
   "cell_type": "code",
   "execution_count": 16,
   "metadata": {},
   "outputs": [
    {
     "name": "stdout",
     "output_type": "stream",
     "text": [
      "20\n",
      "10\n"
     ]
    }
   ],
   "source": [
    "#Example of Global Variable \n",
    "a=10 # global variable\n",
    "def f11(): \n",
    "    a=20 #Local Variable \n",
    "    print(a) \n",
    "def f22(): \n",
    "    print(a) \n",
    "#a=10 You can define global variable here also\n",
    "\n",
    "\n",
    "f11() \n",
    "f22()"
   ]
  },
  {
   "cell_type": "code",
   "execution_count": 28,
   "metadata": {},
   "outputs": [
    {
     "name": "stdout",
     "output_type": "stream",
     "text": [
      "15\n",
      "696\n",
      "100\n"
     ]
    }
   ],
   "source": [
    "import ModuleEx1 as par\n",
    "print(par.add(5,10))\n",
    "print(par.prod(634,62))\n",
    "print(par.x)"
   ]
  },
  {
   "cell_type": "code",
   "execution_count": 42,
   "metadata": {},
   "outputs": [
    {
     "name": "stdout",
     "output_type": "stream",
     "text": [
      "110\n",
      "64\n",
      "100\n"
     ]
    }
   ],
   "source": [
    "from ModuleEx1 import add # type: ignore\n",
    "print(add(x,10))\n",
    "print(prod(2,62))\n",
    "print(x)"
   ]
  },
  {
   "cell_type": "code",
   "execution_count": 24,
   "metadata": {},
   "outputs": [],
   "source": [
    "\n",
    "def missingCharacters(s):\n",
    "    check = \"0123456789abcdefghijklmnopqrstuvwxyz\"\n",
    "    res = \"\"\n",
    "    for letter in check:\n",
    "        if letter not in s:\n",
    "            res +=letter\n",
    "            \n",
    "    return res\n"
   ]
  },
  {
   "cell_type": "code",
   "execution_count": 27,
   "metadata": {},
   "outputs": [
    {
     "data": {
      "text/plain": [
       "'13579bdfgjkmnqrsuv'"
      ]
     },
     "execution_count": 27,
     "metadata": {},
     "output_type": "execute_result"
    }
   ],
   "source": [
    "missingCharacters(\"8hypotheticall024y6wxz\")"
   ]
  },
  {
   "cell_type": "code",
   "execution_count": 1,
   "metadata": {},
   "outputs": [
    {
     "name": "stdout",
     "output_type": "stream",
     "text": [
      "7.583185447186523\n",
      "7.42117233814871\n",
      "8.318474323211785\n",
      "7.97361033256668\n",
      "7.4751508280519445\n"
     ]
    }
   ],
   "source": [
    "from random import *\n",
    "for i in range (5):\n",
    "    print(uniform(5,10))"
   ]
  },
  {
   "cell_type": "code",
   "execution_count": 2,
   "metadata": {},
   "outputs": [
    {
     "name": "stdout",
     "output_type": "stream",
     "text": [
      "[34, 54, 97, 46, 2372]\n"
     ]
    }
   ],
   "source": [
    "l=[34,54,97,46]\n",
    "l.append(2372)\n",
    "\n",
    "print(l)"
   ]
  },
  {
   "cell_type": "code",
   "execution_count": 6,
   "metadata": {},
   "outputs": [
    {
     "name": "stdout",
     "output_type": "stream",
     "text": [
      "[34, 543, 54, 97, 46]\n"
     ]
    }
   ],
   "source": [
    "l=[34,54,97,46]\n",
    "l.insert(1,543)\n",
    "\n",
    "print(l)"
   ]
  },
  {
   "cell_type": "code",
   "execution_count": 10,
   "metadata": {},
   "outputs": [
    {
     "name": "stdout",
     "output_type": "stream",
     "text": [
      "[34, 54, 97]\n"
     ]
    }
   ],
   "source": [
    "l=[34,54,97,46]\n",
    "l.pop(3)\n",
    "\n",
    "print(l)"
   ]
  },
  {
   "cell_type": "code",
   "execution_count": 11,
   "metadata": {},
   "outputs": [
    {
     "name": "stdout",
     "output_type": "stream",
     "text": [
      "[34, 54, 97]\n"
     ]
    }
   ],
   "source": [
    "l=[34,54,97,46]\n",
    "l.pop()\n",
    "\n",
    "print(l)"
   ]
  },
  {
   "cell_type": "code",
   "execution_count": 15,
   "metadata": {},
   "outputs": [
    {
     "name": "stdout",
     "output_type": "stream",
     "text": [
      "[34, 54, 97, 46, 'A', 'S', 1, 3]\n"
     ]
    }
   ],
   "source": [
    "l=[34,54,97,46]\n",
    "l += [\"A\", \"S\", 1, 3]\n",
    "# l.extend([\"A\", \"S\", 1, 3])\n",
    "# l.extend)\"[tj,yj,rtj,t\"]\n",
    "\n",
    "print(l)"
   ]
  },
  {
   "cell_type": "code",
   "execution_count": null,
   "metadata": {},
   "outputs": [],
   "source": [
    "ls1=[1,2,3,4]\n",
    "ls2=ls1[:] #ls2=ls1.copy()    "
   ]
  },
  {
   "cell_type": "code",
   "execution_count": 19,
   "metadata": {},
   "outputs": [
    {
     "name": "stdout",
     "output_type": "stream",
     "text": [
      "[2, 4, 8, 16, 32, 64]\n"
     ]
    }
   ],
   "source": [
    "#list comprehension\n",
    "#syntax = newlist=[expression for item in iterable if condition ==True]\n",
    "list=[2**value for value in range(1,7)]\n",
    "print(list)\n"
   ]
  },
  {
   "cell_type": "code",
   "execution_count": 20,
   "metadata": {},
   "outputs": [
    {
     "name": "stdout",
     "output_type": "stream",
     "text": [
      "[5, 7, 9, 11, 13, 15, 17, 19, 21, 23, 25, 27, 29, 31, 33, 35, 37, 39, 41, 43, 45, 47, 49]\n"
     ]
    }
   ],
   "source": [
    "list=[value for value in range(5,50) if value%2!=0]\n",
    "print(list)"
   ]
  },
  {
   "cell_type": "code",
   "execution_count": 22,
   "metadata": {},
   "outputs": [
    {
     "data": {
      "text/plain": [
       "[(1, 3),\n",
       " (1, 4),\n",
       " (1, 5),\n",
       " (1, 6),\n",
       " (2, 3),\n",
       " (2, 4),\n",
       " (2, 5),\n",
       " (2, 6),\n",
       " (3, 3),\n",
       " (3, 4),\n",
       " (3, 5),\n",
       " (3, 6)]"
      ]
     },
     "execution_count": 22,
     "metadata": {},
     "output_type": "execute_result"
    }
   ],
   "source": [
    "[(x,y) for x in [1,2,3] for y in [3,4,5,6]]"
   ]
  },
  {
   "cell_type": "code",
   "execution_count": null,
   "metadata": {},
   "outputs": [],
   "source": [
    " "
   ]
  }
 ],
 "metadata": {
  "kernelspec": {
   "display_name": "Python 3",
   "language": "python",
   "name": "python3"
  },
  "language_info": {
   "codemirror_mode": {
    "name": "ipython",
    "version": 3
   },
   "file_extension": ".py",
   "mimetype": "text/x-python",
   "name": "python",
   "nbconvert_exporter": "python",
   "pygments_lexer": "ipython3",
   "version": "3.10.6"
  }
 },
 "nbformat": 4,
 "nbformat_minor": 2
}
